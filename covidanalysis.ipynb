{
 "cells": [
  {
   "cell_type": "code",
   "execution_count": 1,
   "metadata": {},
   "outputs": [],
   "source": [
    "import pandas as pd"
   ]
  },
  {
   "cell_type": "code",
   "execution_count": 2,
   "metadata": {},
   "outputs": [],
   "source": [
    "import numpy as np"
   ]
  },
  {
   "cell_type": "code",
   "execution_count": 3,
   "metadata": {},
   "outputs": [],
   "source": [
    "import matplotlib.pyplot as plt"
   ]
  },
  {
   "cell_type": "markdown",
   "metadata": {},
   "source": [
    "EDA(Exploratory Data Analysis)"
   ]
  },
  {
   "cell_type": "code",
   "execution_count": 4,
   "metadata": {},
   "outputs": [],
   "source": [
    "df = pd.read_csv(\"WHO-COVID-19-global-table-data.csv\")"
   ]
  },
  {
   "cell_type": "code",
   "execution_count": 5,
   "metadata": {},
   "outputs": [
    {
     "data": {
      "text/html": [
       "<div>\n",
       "<style scoped>\n",
       "    .dataframe tbody tr th:only-of-type {\n",
       "        vertical-align: middle;\n",
       "    }\n",
       "\n",
       "    .dataframe tbody tr th {\n",
       "        vertical-align: top;\n",
       "    }\n",
       "\n",
       "    .dataframe thead th {\n",
       "        text-align: right;\n",
       "    }\n",
       "</style>\n",
       "<table border=\"1\" class=\"dataframe\">\n",
       "  <thead>\n",
       "    <tr style=\"text-align: right;\">\n",
       "      <th></th>\n",
       "      <th>Name</th>\n",
       "      <th>WHO Region</th>\n",
       "      <th>Cases - cumulative total</th>\n",
       "      <th>Cases - cumulative total per 100000 population</th>\n",
       "      <th>Cases - newly reported in last 7 days</th>\n",
       "      <th>Cases - newly reported in last 7 days per 100000 population</th>\n",
       "      <th>Cases - newly reported in last 24 hours</th>\n",
       "      <th>Deaths - cumulative total</th>\n",
       "      <th>Deaths - cumulative total per 100000 population</th>\n",
       "      <th>Deaths - newly reported in last 7 days</th>\n",
       "      <th>Deaths - newly reported in last 7 days per 100000 population</th>\n",
       "      <th>Deaths - newly reported in last 24 hours</th>\n",
       "    </tr>\n",
       "  </thead>\n",
       "  <tbody>\n",
       "    <tr>\n",
       "      <th>0</th>\n",
       "      <td>Belarus</td>\n",
       "      <td>Europe</td>\n",
       "      <td>994045.0</td>\n",
       "      <td>10520.0</td>\n",
       "      <td>0.0</td>\n",
       "      <td>NaN</td>\n",
       "      <td>0.0</td>\n",
       "      <td>7118.0</td>\n",
       "      <td>75.0</td>\n",
       "      <td>0.0</td>\n",
       "      <td>NaN</td>\n",
       "      <td>0.0</td>\n",
       "    </tr>\n",
       "    <tr>\n",
       "      <th>1</th>\n",
       "      <td>China</td>\n",
       "      <td>Western Pacific</td>\n",
       "      <td>99381302.0</td>\n",
       "      <td>6755.0</td>\n",
       "      <td>47.0</td>\n",
       "      <td>NaN</td>\n",
       "      <td>47.0</td>\n",
       "      <td>122377.0</td>\n",
       "      <td>8.0</td>\n",
       "      <td>0.0</td>\n",
       "      <td>NaN</td>\n",
       "      <td>0.0</td>\n",
       "    </tr>\n",
       "    <tr>\n",
       "      <th>2</th>\n",
       "      <td>French Guiana</td>\n",
       "      <td>NaN</td>\n",
       "      <td>98041.0</td>\n",
       "      <td>32825.0</td>\n",
       "      <td>NaN</td>\n",
       "      <td>NaN</td>\n",
       "      <td>NaN</td>\n",
       "      <td>413.0</td>\n",
       "      <td>138.0</td>\n",
       "      <td>NaN</td>\n",
       "      <td>NaN</td>\n",
       "      <td>NaN</td>\n",
       "    </tr>\n",
       "    <tr>\n",
       "      <th>3</th>\n",
       "      <td>Latvia</td>\n",
       "      <td>Europe</td>\n",
       "      <td>977765.0</td>\n",
       "      <td>51254.0</td>\n",
       "      <td>0.0</td>\n",
       "      <td>NaN</td>\n",
       "      <td>0.0</td>\n",
       "      <td>7475.0</td>\n",
       "      <td>392.0</td>\n",
       "      <td>0.0</td>\n",
       "      <td>NaN</td>\n",
       "      <td>0.0</td>\n",
       "    </tr>\n",
       "    <tr>\n",
       "      <th>4</th>\n",
       "      <td>Saint Vincent and the Grenadines</td>\n",
       "      <td>Americas</td>\n",
       "      <td>9674.0</td>\n",
       "      <td>8720.0</td>\n",
       "      <td>NaN</td>\n",
       "      <td>NaN</td>\n",
       "      <td>NaN</td>\n",
       "      <td>124.0</td>\n",
       "      <td>112.0</td>\n",
       "      <td>NaN</td>\n",
       "      <td>NaN</td>\n",
       "      <td>NaN</td>\n",
       "    </tr>\n",
       "  </tbody>\n",
       "</table>\n",
       "</div>"
      ],
      "text/plain": [
       "                               Name       WHO Region  \\\n",
       "0                           Belarus           Europe   \n",
       "1                             China  Western Pacific   \n",
       "2                     French Guiana              NaN   \n",
       "3                            Latvia           Europe   \n",
       "4  Saint Vincent and the Grenadines         Americas   \n",
       "\n",
       "   Cases - cumulative total  Cases - cumulative total per 100000 population  \\\n",
       "0                  994045.0                                         10520.0   \n",
       "1                99381302.0                                          6755.0   \n",
       "2                   98041.0                                         32825.0   \n",
       "3                  977765.0                                         51254.0   \n",
       "4                    9674.0                                          8720.0   \n",
       "\n",
       "   Cases - newly reported in last 7 days  \\\n",
       "0                                    0.0   \n",
       "1                                   47.0   \n",
       "2                                    NaN   \n",
       "3                                    0.0   \n",
       "4                                    NaN   \n",
       "\n",
       "   Cases - newly reported in last 7 days per 100000 population  \\\n",
       "0                                                NaN             \n",
       "1                                                NaN             \n",
       "2                                                NaN             \n",
       "3                                                NaN             \n",
       "4                                                NaN             \n",
       "\n",
       "   Cases - newly reported in last 24 hours  Deaths - cumulative total  \\\n",
       "0                                      0.0                     7118.0   \n",
       "1                                     47.0                   122377.0   \n",
       "2                                      NaN                      413.0   \n",
       "3                                      0.0                     7475.0   \n",
       "4                                      NaN                      124.0   \n",
       "\n",
       "   Deaths - cumulative total per 100000 population  \\\n",
       "0                                             75.0   \n",
       "1                                              8.0   \n",
       "2                                            138.0   \n",
       "3                                            392.0   \n",
       "4                                            112.0   \n",
       "\n",
       "   Deaths - newly reported in last 7 days  \\\n",
       "0                                     0.0   \n",
       "1                                     0.0   \n",
       "2                                     NaN   \n",
       "3                                     0.0   \n",
       "4                                     NaN   \n",
       "\n",
       "   Deaths - newly reported in last 7 days per 100000 population  \\\n",
       "0                                                NaN              \n",
       "1                                                NaN              \n",
       "2                                                NaN              \n",
       "3                                                NaN              \n",
       "4                                                NaN              \n",
       "\n",
       "   Deaths - newly reported in last 24 hours  \n",
       "0                                       0.0  \n",
       "1                                       0.0  \n",
       "2                                       NaN  \n",
       "3                                       0.0  \n",
       "4                                       NaN  "
      ]
     },
     "execution_count": 5,
     "metadata": {},
     "output_type": "execute_result"
    }
   ],
   "source": [
    "df.head()"
   ]
  },
  {
   "cell_type": "code",
   "execution_count": 6,
   "metadata": {},
   "outputs": [
    {
     "data": {
      "text/plain": [
       "(241, 12)"
      ]
     },
     "execution_count": 6,
     "metadata": {},
     "output_type": "execute_result"
    }
   ],
   "source": [
    "df.shape"
   ]
  },
  {
   "cell_type": "code",
   "execution_count": 7,
   "metadata": {},
   "outputs": [
    {
     "name": "stdout",
     "output_type": "stream",
     "text": [
      "<class 'pandas.core.frame.DataFrame'>\n",
      "RangeIndex: 241 entries, 0 to 240\n",
      "Data columns (total 12 columns):\n",
      " #   Column                                                        Non-Null Count  Dtype  \n",
      "---  ------                                                        --------------  -----  \n",
      " 0   Name                                                          241 non-null    object \n",
      " 1   WHO Region                                                    222 non-null    object \n",
      " 2   Cases - cumulative total                                      241 non-null    float64\n",
      " 3   Cases - cumulative total per 100000 population                232 non-null    float64\n",
      " 4   Cases - newly reported in last 7 days                         79 non-null     float64\n",
      " 5   Cases - newly reported in last 7 days per 100000 population   33 non-null     float64\n",
      " 6   Cases - newly reported in last 24 hours                       79 non-null     float64\n",
      " 7   Deaths - cumulative total                                     241 non-null    float64\n",
      " 8   Deaths - cumulative total per 100000 population               225 non-null    float64\n",
      " 9   Deaths - newly reported in last 7 days                        80 non-null     float64\n",
      " 10  Deaths - newly reported in last 7 days per 100000 population  0 non-null      float64\n",
      " 11  Deaths - newly reported in last 24 hours                      80 non-null     float64\n",
      "dtypes: float64(10), object(2)\n",
      "memory usage: 22.7+ KB\n"
     ]
    }
   ],
   "source": [
    "df.info()"
   ]
  },
  {
   "cell_type": "code",
   "execution_count": 8,
   "metadata": {},
   "outputs": [
    {
     "data": {
      "text/plain": [
       "Name                                                              0\n",
       "WHO Region                                                       19\n",
       "Cases - cumulative total                                          0\n",
       "Cases - cumulative total per 100000 population                    9\n",
       "Cases - newly reported in last 7 days                           162\n",
       "Cases - newly reported in last 7 days per 100000 population     208\n",
       "Cases - newly reported in last 24 hours                         162\n",
       "Deaths - cumulative total                                         0\n",
       "Deaths - cumulative total per 100000 population                  16\n",
       "Deaths - newly reported in last 7 days                          161\n",
       "Deaths - newly reported in last 7 days per 100000 population    241\n",
       "Deaths - newly reported in last 24 hours                        161\n",
       "dtype: int64"
      ]
     },
     "execution_count": 8,
     "metadata": {},
     "output_type": "execute_result"
    }
   ],
   "source": [
    "df.isnull().sum()"
   ]
  },
  {
   "cell_type": "code",
   "execution_count": 9,
   "metadata": {},
   "outputs": [],
   "source": [
    "df.drop(columns = [\"Cases - newly reported in last 7 days per 100000 population\", \"Deaths - newly reported in last 7 days per 100000 population\"], inplace = True)"
   ]
  },
  {
   "cell_type": "code",
   "execution_count": 10,
   "metadata": {},
   "outputs": [
    {
     "data": {
      "text/plain": [
       "Index(['Name', 'WHO Region', 'Cases - cumulative total',\n",
       "       'Cases - cumulative total per 100000 population',\n",
       "       'Cases - newly reported in last 7 days',\n",
       "       'Cases - newly reported in last 24 hours', 'Deaths - cumulative total',\n",
       "       'Deaths - cumulative total per 100000 population',\n",
       "       'Deaths - newly reported in last 7 days',\n",
       "       'Deaths - newly reported in last 24 hours'],\n",
       "      dtype='object')"
      ]
     },
     "execution_count": 10,
     "metadata": {},
     "output_type": "execute_result"
    }
   ],
   "source": [
    "df.columns"
   ]
  },
  {
   "cell_type": "code",
   "execution_count": 11,
   "metadata": {},
   "outputs": [
    {
     "data": {
      "text/plain": [
       "Name                                                 0\n",
       "WHO Region                                          19\n",
       "Cases - cumulative total                             0\n",
       "Cases - cumulative total per 100000 population       9\n",
       "Cases - newly reported in last 7 days              162\n",
       "Cases - newly reported in last 24 hours            162\n",
       "Deaths - cumulative total                            0\n",
       "Deaths - cumulative total per 100000 population     16\n",
       "Deaths - newly reported in last 7 days             161\n",
       "Deaths - newly reported in last 24 hours           161\n",
       "dtype: int64"
      ]
     },
     "execution_count": 11,
     "metadata": {},
     "output_type": "execute_result"
    }
   ],
   "source": [
    "df.isnull().sum()"
   ]
  },
  {
   "cell_type": "code",
   "execution_count": 12,
   "metadata": {},
   "outputs": [],
   "source": [
    "df.drop(columns= ['Cases - newly reported in last 24 hours', 'Deaths - newly reported in last 24 hours'], inplace = True)"
   ]
  },
  {
   "cell_type": "code",
   "execution_count": 13,
   "metadata": {},
   "outputs": [
    {
     "data": {
      "text/plain": [
       "Index(['Name', 'WHO Region', 'Cases - cumulative total',\n",
       "       'Cases - cumulative total per 100000 population',\n",
       "       'Cases - newly reported in last 7 days', 'Deaths - cumulative total',\n",
       "       'Deaths - cumulative total per 100000 population',\n",
       "       'Deaths - newly reported in last 7 days'],\n",
       "      dtype='object')"
      ]
     },
     "execution_count": 13,
     "metadata": {},
     "output_type": "execute_result"
    }
   ],
   "source": [
    "df.columns"
   ]
  },
  {
   "cell_type": "code",
   "execution_count": 14,
   "metadata": {},
   "outputs": [
    {
     "data": {
      "text/plain": [
       "Name                                                 0\n",
       "WHO Region                                          19\n",
       "Cases - cumulative total                             0\n",
       "Cases - cumulative total per 100000 population       9\n",
       "Cases - newly reported in last 7 days              162\n",
       "Deaths - cumulative total                            0\n",
       "Deaths - cumulative total per 100000 population     16\n",
       "Deaths - newly reported in last 7 days             161\n",
       "dtype: int64"
      ]
     },
     "execution_count": 14,
     "metadata": {},
     "output_type": "execute_result"
    }
   ],
   "source": [
    "df.isnull().sum()"
   ]
  },
  {
   "cell_type": "code",
   "execution_count": 15,
   "metadata": {},
   "outputs": [],
   "source": [
    "df['Cases - newly reported in last 7 days'] = df['Cases - newly reported in last 7 days'].fillna(0)"
   ]
  },
  {
   "cell_type": "code",
   "execution_count": 16,
   "metadata": {},
   "outputs": [],
   "source": [
    "df['Deaths - newly reported in last 7 days'] = df['Deaths - newly reported in last 7 days'].fillna(0)"
   ]
  },
  {
   "cell_type": "code",
   "execution_count": 17,
   "metadata": {},
   "outputs": [
    {
     "data": {
      "text/html": [
       "<div>\n",
       "<style scoped>\n",
       "    .dataframe tbody tr th:only-of-type {\n",
       "        vertical-align: middle;\n",
       "    }\n",
       "\n",
       "    .dataframe tbody tr th {\n",
       "        vertical-align: top;\n",
       "    }\n",
       "\n",
       "    .dataframe thead th {\n",
       "        text-align: right;\n",
       "    }\n",
       "</style>\n",
       "<table border=\"1\" class=\"dataframe\">\n",
       "  <thead>\n",
       "    <tr style=\"text-align: right;\">\n",
       "      <th></th>\n",
       "      <th>Name</th>\n",
       "      <th>WHO Region</th>\n",
       "      <th>Cases - cumulative total</th>\n",
       "      <th>Cases - cumulative total per 100000 population</th>\n",
       "      <th>Cases - newly reported in last 7 days</th>\n",
       "      <th>Deaths - cumulative total</th>\n",
       "      <th>Deaths - cumulative total per 100000 population</th>\n",
       "      <th>Deaths - newly reported in last 7 days</th>\n",
       "    </tr>\n",
       "  </thead>\n",
       "  <tbody>\n",
       "    <tr>\n",
       "      <th>0</th>\n",
       "      <td>Belarus</td>\n",
       "      <td>Europe</td>\n",
       "      <td>994045.0</td>\n",
       "      <td>10520.0</td>\n",
       "      <td>0.0</td>\n",
       "      <td>7118.0</td>\n",
       "      <td>75.0</td>\n",
       "      <td>0.0</td>\n",
       "    </tr>\n",
       "    <tr>\n",
       "      <th>1</th>\n",
       "      <td>China</td>\n",
       "      <td>Western Pacific</td>\n",
       "      <td>99381302.0</td>\n",
       "      <td>6755.0</td>\n",
       "      <td>47.0</td>\n",
       "      <td>122377.0</td>\n",
       "      <td>8.0</td>\n",
       "      <td>0.0</td>\n",
       "    </tr>\n",
       "    <tr>\n",
       "      <th>2</th>\n",
       "      <td>French Guiana</td>\n",
       "      <td>NaN</td>\n",
       "      <td>98041.0</td>\n",
       "      <td>32825.0</td>\n",
       "      <td>0.0</td>\n",
       "      <td>413.0</td>\n",
       "      <td>138.0</td>\n",
       "      <td>0.0</td>\n",
       "    </tr>\n",
       "    <tr>\n",
       "      <th>3</th>\n",
       "      <td>Latvia</td>\n",
       "      <td>Europe</td>\n",
       "      <td>977765.0</td>\n",
       "      <td>51254.0</td>\n",
       "      <td>0.0</td>\n",
       "      <td>7475.0</td>\n",
       "      <td>392.0</td>\n",
       "      <td>0.0</td>\n",
       "    </tr>\n",
       "    <tr>\n",
       "      <th>4</th>\n",
       "      <td>Saint Vincent and the Grenadines</td>\n",
       "      <td>Americas</td>\n",
       "      <td>9674.0</td>\n",
       "      <td>8720.0</td>\n",
       "      <td>0.0</td>\n",
       "      <td>124.0</td>\n",
       "      <td>112.0</td>\n",
       "      <td>0.0</td>\n",
       "    </tr>\n",
       "  </tbody>\n",
       "</table>\n",
       "</div>"
      ],
      "text/plain": [
       "                               Name       WHO Region  \\\n",
       "0                           Belarus           Europe   \n",
       "1                             China  Western Pacific   \n",
       "2                     French Guiana              NaN   \n",
       "3                            Latvia           Europe   \n",
       "4  Saint Vincent and the Grenadines         Americas   \n",
       "\n",
       "   Cases - cumulative total  Cases - cumulative total per 100000 population  \\\n",
       "0                  994045.0                                         10520.0   \n",
       "1                99381302.0                                          6755.0   \n",
       "2                   98041.0                                         32825.0   \n",
       "3                  977765.0                                         51254.0   \n",
       "4                    9674.0                                          8720.0   \n",
       "\n",
       "   Cases - newly reported in last 7 days  Deaths - cumulative total  \\\n",
       "0                                    0.0                     7118.0   \n",
       "1                                   47.0                   122377.0   \n",
       "2                                    0.0                      413.0   \n",
       "3                                    0.0                     7475.0   \n",
       "4                                    0.0                      124.0   \n",
       "\n",
       "   Deaths - cumulative total per 100000 population  \\\n",
       "0                                             75.0   \n",
       "1                                              8.0   \n",
       "2                                            138.0   \n",
       "3                                            392.0   \n",
       "4                                            112.0   \n",
       "\n",
       "   Deaths - newly reported in last 7 days  \n",
       "0                                     0.0  \n",
       "1                                     0.0  \n",
       "2                                     0.0  \n",
       "3                                     0.0  \n",
       "4                                     0.0  "
      ]
     },
     "execution_count": 17,
     "metadata": {},
     "output_type": "execute_result"
    }
   ],
   "source": [
    "df.head()"
   ]
  },
  {
   "cell_type": "code",
   "execution_count": 18,
   "metadata": {},
   "outputs": [
    {
     "data": {
      "text/plain": [
       "Name                                                0\n",
       "WHO Region                                         19\n",
       "Cases - cumulative total                            0\n",
       "Cases - cumulative total per 100000 population      9\n",
       "Cases - newly reported in last 7 days               0\n",
       "Deaths - cumulative total                           0\n",
       "Deaths - cumulative total per 100000 population    16\n",
       "Deaths - newly reported in last 7 days              0\n",
       "dtype: int64"
      ]
     },
     "execution_count": 18,
     "metadata": {},
     "output_type": "execute_result"
    }
   ],
   "source": [
    "df.isnull().sum()"
   ]
  },
  {
   "cell_type": "code",
   "execution_count": 19,
   "metadata": {},
   "outputs": [
    {
     "data": {
      "text/plain": [
       "'Europe'"
      ]
     },
     "execution_count": 19,
     "metadata": {},
     "output_type": "execute_result"
    }
   ],
   "source": [
    "mode_value = df['WHO Region'].mode()[0]\n",
    "mode_value"
   ]
  },
  {
   "cell_type": "code",
   "execution_count": 20,
   "metadata": {},
   "outputs": [],
   "source": [
    "df['WHO Region'] = df['WHO Region'].fillna(mode_value)"
   ]
  },
  {
   "cell_type": "code",
   "execution_count": 21,
   "metadata": {},
   "outputs": [
    {
     "data": {
      "text/plain": [
       "0             Europe\n",
       "1    Western Pacific\n",
       "2             Europe\n",
       "3             Europe\n",
       "4           Americas\n",
       "Name: WHO Region, dtype: object"
      ]
     },
     "execution_count": 21,
     "metadata": {},
     "output_type": "execute_result"
    }
   ],
   "source": [
    "df['WHO Region'].head()"
   ]
  },
  {
   "cell_type": "code",
   "execution_count": 22,
   "metadata": {},
   "outputs": [
    {
     "data": {
      "text/plain": [
       "Name                                                0\n",
       "WHO Region                                          0\n",
       "Cases - cumulative total                            0\n",
       "Cases - cumulative total per 100000 population      9\n",
       "Cases - newly reported in last 7 days               0\n",
       "Deaths - cumulative total                           0\n",
       "Deaths - cumulative total per 100000 population    16\n",
       "Deaths - newly reported in last 7 days              0\n",
       "dtype: int64"
      ]
     },
     "execution_count": 22,
     "metadata": {},
     "output_type": "execute_result"
    }
   ],
   "source": [
    "df.isnull().sum()"
   ]
  },
  {
   "cell_type": "code",
   "execution_count": 23,
   "metadata": {},
   "outputs": [
    {
     "data": {
      "text/plain": [
       "41474.06034482759"
      ]
     },
     "execution_count": 23,
     "metadata": {},
     "output_type": "execute_result"
    }
   ],
   "source": [
    "mean_cases = df['Cases - cumulative total per 100000 population'].mean()\n",
    "mean_cases"
   ]
  },
  {
   "cell_type": "code",
   "execution_count": 24,
   "metadata": {},
   "outputs": [],
   "source": [
    "df['Cases - cumulative total per 100000 population'] = df['Cases - cumulative total per 100000 population'].fillna(mean_cases)"
   ]
  },
  {
   "cell_type": "code",
   "execution_count": 25,
   "metadata": {},
   "outputs": [
    {
     "data": {
      "text/plain": [
       "262.1066666666667"
      ]
     },
     "execution_count": 25,
     "metadata": {},
     "output_type": "execute_result"
    }
   ],
   "source": [
    "mean_deaths = df['Deaths - cumulative total per 100000 population'].mean()\n",
    "mean_deaths"
   ]
  },
  {
   "cell_type": "code",
   "execution_count": 26,
   "metadata": {},
   "outputs": [],
   "source": [
    "df['Deaths - cumulative total per 100000 population'] = df['Deaths - cumulative total per 100000 population'].fillna(mean_deaths)"
   ]
  },
  {
   "cell_type": "code",
   "execution_count": 27,
   "metadata": {},
   "outputs": [
    {
     "data": {
      "text/plain": [
       "Name                                               0\n",
       "WHO Region                                         0\n",
       "Cases - cumulative total                           0\n",
       "Cases - cumulative total per 100000 population     0\n",
       "Cases - newly reported in last 7 days              0\n",
       "Deaths - cumulative total                          0\n",
       "Deaths - cumulative total per 100000 population    0\n",
       "Deaths - newly reported in last 7 days             0\n",
       "dtype: int64"
      ]
     },
     "execution_count": 27,
     "metadata": {},
     "output_type": "execute_result"
    }
   ],
   "source": [
    "df.isnull().sum()"
   ]
  },
  {
   "cell_type": "code",
   "execution_count": 28,
   "metadata": {},
   "outputs": [
    {
     "data": {
      "text/html": [
       "<div>\n",
       "<style scoped>\n",
       "    .dataframe tbody tr th:only-of-type {\n",
       "        vertical-align: middle;\n",
       "    }\n",
       "\n",
       "    .dataframe tbody tr th {\n",
       "        vertical-align: top;\n",
       "    }\n",
       "\n",
       "    .dataframe thead th {\n",
       "        text-align: right;\n",
       "    }\n",
       "</style>\n",
       "<table border=\"1\" class=\"dataframe\">\n",
       "  <thead>\n",
       "    <tr style=\"text-align: right;\">\n",
       "      <th></th>\n",
       "      <th>Cases - cumulative total</th>\n",
       "      <th>Cases - cumulative total per 100000 population</th>\n",
       "      <th>Cases - newly reported in last 7 days</th>\n",
       "      <th>Deaths - cumulative total</th>\n",
       "      <th>Deaths - cumulative total per 100000 population</th>\n",
       "      <th>Deaths - newly reported in last 7 days</th>\n",
       "    </tr>\n",
       "  </thead>\n",
       "  <tbody>\n",
       "    <tr>\n",
       "      <th>count</th>\n",
       "      <td>2.410000e+02</td>\n",
       "      <td>2.410000e+02</td>\n",
       "      <td>241.000000</td>\n",
       "      <td>2.410000e+02</td>\n",
       "      <td>241.000000</td>\n",
       "      <td>241.000000</td>\n",
       "    </tr>\n",
       "    <tr>\n",
       "      <th>mean</th>\n",
       "      <td>6.447912e+06</td>\n",
       "      <td>4.147406e+04</td>\n",
       "      <td>391.950207</td>\n",
       "      <td>5.873631e+04</td>\n",
       "      <td>262.106667</td>\n",
       "      <td>4.323651</td>\n",
       "    </tr>\n",
       "    <tr>\n",
       "      <th>std</th>\n",
       "      <td>5.109927e+07</td>\n",
       "      <td>3.092087e+05</td>\n",
       "      <td>3641.468277</td>\n",
       "      <td>4.663368e+05</td>\n",
       "      <td>1894.922696</td>\n",
       "      <td>40.431565</td>\n",
       "    </tr>\n",
       "    <tr>\n",
       "      <th>min</th>\n",
       "      <td>0.000000e+00</td>\n",
       "      <td>3.900000e+01</td>\n",
       "      <td>0.000000</td>\n",
       "      <td>0.000000e+00</td>\n",
       "      <td>1.000000</td>\n",
       "      <td>0.000000</td>\n",
       "    </tr>\n",
       "    <tr>\n",
       "      <th>25%</th>\n",
       "      <td>2.160900e+04</td>\n",
       "      <td>3.011000e+03</td>\n",
       "      <td>0.000000</td>\n",
       "      <td>1.600000e+02</td>\n",
       "      <td>21.000000</td>\n",
       "      <td>0.000000</td>\n",
       "    </tr>\n",
       "    <tr>\n",
       "      <th>50%</th>\n",
       "      <td>1.725560e+05</td>\n",
       "      <td>1.540500e+04</td>\n",
       "      <td>0.000000</td>\n",
       "      <td>1.474000e+03</td>\n",
       "      <td>104.000000</td>\n",
       "      <td>0.000000</td>\n",
       "    </tr>\n",
       "    <tr>\n",
       "      <th>75%</th>\n",
       "      <td>1.252713e+06</td>\n",
       "      <td>3.729700e+04</td>\n",
       "      <td>0.000000</td>\n",
       "      <td>1.270700e+04</td>\n",
       "      <td>249.000000</td>\n",
       "      <td>0.000000</td>\n",
       "    </tr>\n",
       "    <tr>\n",
       "      <th>max</th>\n",
       "      <td>7.769734e+08</td>\n",
       "      <td>4.810991e+06</td>\n",
       "      <td>47230.000000</td>\n",
       "      <td>7.077725e+06</td>\n",
       "      <td>29487.000000</td>\n",
       "      <td>521.000000</td>\n",
       "    </tr>\n",
       "  </tbody>\n",
       "</table>\n",
       "</div>"
      ],
      "text/plain": [
       "       Cases - cumulative total  \\\n",
       "count              2.410000e+02   \n",
       "mean               6.447912e+06   \n",
       "std                5.109927e+07   \n",
       "min                0.000000e+00   \n",
       "25%                2.160900e+04   \n",
       "50%                1.725560e+05   \n",
       "75%                1.252713e+06   \n",
       "max                7.769734e+08   \n",
       "\n",
       "       Cases - cumulative total per 100000 population  \\\n",
       "count                                    2.410000e+02   \n",
       "mean                                     4.147406e+04   \n",
       "std                                      3.092087e+05   \n",
       "min                                      3.900000e+01   \n",
       "25%                                      3.011000e+03   \n",
       "50%                                      1.540500e+04   \n",
       "75%                                      3.729700e+04   \n",
       "max                                      4.810991e+06   \n",
       "\n",
       "       Cases - newly reported in last 7 days  Deaths - cumulative total  \\\n",
       "count                             241.000000               2.410000e+02   \n",
       "mean                              391.950207               5.873631e+04   \n",
       "std                              3641.468277               4.663368e+05   \n",
       "min                                 0.000000               0.000000e+00   \n",
       "25%                                 0.000000               1.600000e+02   \n",
       "50%                                 0.000000               1.474000e+03   \n",
       "75%                                 0.000000               1.270700e+04   \n",
       "max                             47230.000000               7.077725e+06   \n",
       "\n",
       "       Deaths - cumulative total per 100000 population  \\\n",
       "count                                       241.000000   \n",
       "mean                                        262.106667   \n",
       "std                                        1894.922696   \n",
       "min                                           1.000000   \n",
       "25%                                          21.000000   \n",
       "50%                                         104.000000   \n",
       "75%                                         249.000000   \n",
       "max                                       29487.000000   \n",
       "\n",
       "       Deaths - newly reported in last 7 days  \n",
       "count                              241.000000  \n",
       "mean                                 4.323651  \n",
       "std                                 40.431565  \n",
       "min                                  0.000000  \n",
       "25%                                  0.000000  \n",
       "50%                                  0.000000  \n",
       "75%                                  0.000000  \n",
       "max                                521.000000  "
      ]
     },
     "execution_count": 28,
     "metadata": {},
     "output_type": "execute_result"
    }
   ],
   "source": [
    "df.describe()"
   ]
  },
  {
   "cell_type": "markdown",
   "metadata": {},
   "source": [
    "Data Visualisation"
   ]
  },
  {
   "cell_type": "code",
   "execution_count": 29,
   "metadata": {},
   "outputs": [],
   "source": [
    "df['Death Rate %'] = (df['Deaths - cumulative total'] / df['Cases - cumulative total']) * 100"
   ]
  },
  {
   "cell_type": "code",
   "execution_count": 32,
   "metadata": {},
   "outputs": [
    {
     "data": {
      "image/png": "[encoded data removed]",
      "text/plain": [
       "<Figure size 1200x600 with 1 Axes>"
      ]
     },
     "metadata": {},
     "output_type": "display_data"
    }
   ],
   "source": [
    "plt.figure(figsize = (12, 6))\n",
    "plt.bar(df['WHO Region'], df['Death Rate %'], color = 'orange')\n",
    "plt.ylabel(\"Death Rate %\")\n",
    "plt.title(\"Death Rate (Region wise)\");"
   ]
  },
  {
   "cell_type": "code",
   "execution_count": 34,
   "metadata": {},
   "outputs": [
    {
     "data": {
      "text/plain": [
       "0      0.712928\n",
       "1      0.118431\n",
       "2      0.420411\n",
       "3      0.764818\n",
       "4      1.284404\n",
       "         ...   \n",
       "236    1.291967\n",
       "237    1.769912\n",
       "238    1.190476\n",
       "239    0.631977\n",
       "240    0.631977\n",
       "Name: Death Rate per 100000, Length: 241, dtype: float64"
      ]
     },
     "execution_count": 34,
     "metadata": {},
     "output_type": "execute_result"
    }
   ],
   "source": [
    "df['Death Rate per 100000'] = (df['Deaths - cumulative total per 100000 population'] / df['Cases - cumulative total per 100000 population']) * 100\n",
    "df['Death Rate per 100000']"
   ]
  },
  {
   "cell_type": "code",
   "execution_count": 37,
   "metadata": {},
   "outputs": [
    {
     "data": {
      "image/png": "[encoded data removed]",
      "text/plain": [
       "<Figure size 1200x600 with 1 Axes>"
      ]
     },
     "metadata": {},
     "output_type": "display_data"
    }
   ],
   "source": [
    "plt.figure(figsize = (12,6))\n",
    "plt.bar(df['WHO Region'], df['Death Rate per 100000'], color = 'green')\n",
    "plt.ylabel(\"Death Rate per 100000\")\n",
    "plt.title(\"Death Rate per 100000 (Region Wise)\");"
   ]
  },
  {
   "cell_type": "code",
   "execution_count": 38,
   "metadata": {},
   "outputs": [
    {
     "data": {
      "text/plain": [
       "0           NaN\n",
       "1      0.000000\n",
       "2           NaN\n",
       "3           NaN\n",
       "4           NaN\n",
       "         ...   \n",
       "236    1.923077\n",
       "237         NaN\n",
       "238         NaN\n",
       "239         NaN\n",
       "240         NaN\n",
       "Name: Death Rate (last 7 days), Length: 241, dtype: float64"
      ]
     },
     "execution_count": 38,
     "metadata": {},
     "output_type": "execute_result"
    }
   ],
   "source": [
    "df['Death Rate (last 7 days)'] = (df['Deaths - newly reported in last 7 days'] / df['Cases - newly reported in last 7 days']) * 100\n",
    "df['Death Rate (last 7 days)']"
   ]
  },
  {
   "cell_type": "code",
   "execution_count": 44,
   "metadata": {},
   "outputs": [
    {
     "data": {
      "image/png": "[encoded data removed]",
      "text/plain": [
       "<Figure size 1200x600 with 1 Axes>"
      ]
     },
     "metadata": {},
     "output_type": "display_data"
    }
   ],
   "source": [
    "plt.figure(figsize = (12, 6))\n",
    "plt.bar(df['WHO Region'], df['Death Rate (last 7 days)'], color = 'red')\n",
    "plt.ylabel(\"Death Rate (last 7 days)\")\n",
    "plt.title(\"Death Rate last 7 days (Region Wise)\");"
   ]
  }
 ],
 "metadata": {
  "kernelspec": {
   "display_name": "base",
   "language": "python",
   "name": "python3"
  },
  "language_info": {
   "codemirror_mode": {
    "name": "ipython",
    "version": 3
   },
   "file_extension": ".py",
   "mimetype": "text/x-python",
   "name": "python",
   "nbconvert_exporter": "python",
   "pygments_lexer": "ipython3",
   "version": "3.12.4"
  }
 },
 "nbformat": 4,
 "nbformat_minor": 4
}
